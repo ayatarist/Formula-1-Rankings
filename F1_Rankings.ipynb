{
 "cells": [
  {
   "cell_type": "markdown",
   "id": "ead61586-4230-494d-bc99-2eb31dedeeab",
   "metadata": {},
   "source": [
    "##### AUTHOR: Aya Tarist"
   ]
  },
  {
   "cell_type": "markdown",
   "id": "08905bbb-fbc4-4416-8bc8-161e38547c8d",
   "metadata": {},
   "source": [
    "### Project Scope:"
   ]
  },
  {
   "cell_type": "markdown",
   "id": "62c467cb-7fa2-45cd-b6f2-942e1d997296",
   "metadata": {},
   "source": [
    "- The main goal of this project is to develop a machine learning method to forecast the ranking of Formula 1 Grand Prix races. By analyzing a mix of current and historical data, we strive to deliver precise predictions to support fans, team managers, and bettors in their decision-making processes. Our approach involves thorough data analysis to pinpoint the key factors that determine race outcomes and to project a set of likely final rankings."
   ]
  },
  {
   "cell_type": "code",
   "execution_count": 1,
   "id": "371c2800-bd61-4074-9a22-16af61bc02cb",
   "metadata": {
    "tags": []
   },
   "outputs": [
    {
     "name": "stderr",
     "output_type": "stream",
     "text": [
      "/var/folders/57/0prtk0lx6472gt0k44smsqcc0000gn/T/ipykernel_23379/2747344324.py:32: MatplotlibDeprecationWarning: The seaborn styles shipped by Matplotlib are deprecated since 3.6, as they no longer correspond to the styles shipped by seaborn. However, they will remain available as 'seaborn-v0_8-<style>'. Alternatively, directly use the seaborn API instead.\n",
      "  plt.style.use('seaborn')\n"
     ]
    }
   ],
   "source": [
    "import warnings\n",
    "import pandas as pd\n",
    "import numpy as np\n",
    "import seaborn as sns\n",
    "import matplotlib.pyplot as plt\n",
    "\n",
    "from sklearn.metrics import (confusion_matrix, classification_report, precision_score,\n",
    "                             f1_score, recall_score, accuracy_score, roc_curve, auc,\n",
    "                             precision_recall_curve, mean_squared_error, balanced_accuracy_score)\n",
    "from sklearn.model_selection import (train_test_split, GridSearchCV, RandomizedSearchCV,\n",
    "                                     StratifiedKFold, cross_val_score)\n",
    "from sklearn.preprocessing import StandardScaler, LabelEncoder, OneHotEncoder, MinMaxScaler\n",
    "from sklearn.tree import DecisionTreeClassifier, plot_tree\n",
    "from sklearn.ensemble import RandomForestClassifier, RandomForestRegressor\n",
    "from sklearn.linear_model import LogisticRegression, LinearRegression\n",
    "from sklearn.svm import SVC\n",
    "from sklearn.neighbors import KNeighborsClassifier\n",
    "from sklearn.naive_bayes import GaussianNB\n",
    "from sklearn.neural_network import MLPClassifier, MLPRegressor\n",
    "from sklearn.metrics import accuracy_score, f1_score, recall_score, precision_score, roc_curve, auc\n",
    "from sklearn.model_selection import train_test_split, StratifiedKFold, cross_val_score\n",
    "from sklearn.preprocessing import StandardScaler\n",
    "from sklearn.linear_model import LogisticRegression\n",
    "from sklearn.ensemble import RandomForestClassifier\n",
    "from sklearn.tree import DecisionTreeClassifier\n",
    "from sklearn.metrics import RocCurveDisplay\n",
    "from sklearn.model_selection import GridSearchCV\n",
    "import pickle\n",
    "\n",
    "# Set display and style options\n",
    "pd.set_option('display.max_columns', None)\n",
    "plt.style.use('seaborn')\n",
    "np.set_printoptions(precision=4)\n",
    "\n",
    "# Suppress specific category of warnings\n",
    "warnings.simplefilter(action='ignore', category=FutureWarning)"
   ]
  },
  {
   "cell_type": "code",
   "execution_count": 2,
   "id": "230ea8ea-7c26-44b5-8bea-0c8e51f67660",
   "metadata": {
    "tags": []
   },
   "outputs": [],
   "source": [
    "#reading the preprocessed data - (output of phase 1)\n",
    "data = pd.read_csv('~/ANOP330/FinalProject/cleaned_data.csv')"
   ]
  },
  {
   "cell_type": "code",
   "execution_count": 3,
   "id": "a8e8b32a-58dc-43b1-8dd7-9f69adce8efb",
   "metadata": {
    "tags": []
   },
   "outputs": [
    {
     "data": {
      "text/html": [
       "<div>\n",
       "<style scoped>\n",
       "    .dataframe tbody tr th:only-of-type {\n",
       "        vertical-align: middle;\n",
       "    }\n",
       "\n",
       "    .dataframe tbody tr th {\n",
       "        vertical-align: top;\n",
       "    }\n",
       "\n",
       "    .dataframe thead th {\n",
       "        text-align: right;\n",
       "    }\n",
       "</style>\n",
       "<table border=\"1\" class=\"dataframe\">\n",
       "  <thead>\n",
       "    <tr style=\"text-align: right;\">\n",
       "      <th></th>\n",
       "      <th>raceId</th>\n",
       "      <th>season</th>\n",
       "      <th>raceNumber</th>\n",
       "      <th>prixName</th>\n",
       "      <th>raceDate</th>\n",
       "      <th>driverId</th>\n",
       "      <th>constructorId</th>\n",
       "      <th>driverStartGridPos</th>\n",
       "      <th>driverFinalGridPos</th>\n",
       "      <th>driverFinalRank</th>\n",
       "      <th>driverRacePoints</th>\n",
       "      <th>driverLapCount</th>\n",
       "      <th>driverFatestLapNumber</th>\n",
       "      <th>driverFastestLapTime</th>\n",
       "      <th>driverFastestLapSpeed</th>\n",
       "      <th>constructorRacePoints</th>\n",
       "      <th>driverNumber</th>\n",
       "      <th>driverDateOfBirth</th>\n",
       "      <th>driverNationality</th>\n",
       "      <th>constructorName</th>\n",
       "      <th>constructorNationality</th>\n",
       "      <th>constructorChampionshipStandingPoints</th>\n",
       "      <th>constructorChampionshipStandingPosition</th>\n",
       "      <th>constructorChampionshipStandingWins</th>\n",
       "      <th>driverChampionshipStandingPoints</th>\n",
       "      <th>driverChampionshipStandingPosition</th>\n",
       "      <th>driverChampionshipStandingWins</th>\n",
       "      <th>circuitName</th>\n",
       "      <th>circuitLocation</th>\n",
       "      <th>circuitCountry</th>\n",
       "      <th>driverRaceResultStatus</th>\n",
       "      <th>driverName</th>\n",
       "      <th>driverAge</th>\n",
       "      <th>driverDnf</th>\n",
       "      <th>constructorDnf</th>\n",
       "    </tr>\n",
       "  </thead>\n",
       "  <tbody>\n",
       "    <tr>\n",
       "      <th>0</th>\n",
       "      <td>1</td>\n",
       "      <td>2009</td>\n",
       "      <td>1</td>\n",
       "      <td>Australian Grand Prix</td>\n",
       "      <td>2009-03-29</td>\n",
       "      <td>18</td>\n",
       "      <td>23</td>\n",
       "      <td>1</td>\n",
       "      <td>1.0</td>\n",
       "      <td>1</td>\n",
       "      <td>10.0</td>\n",
       "      <td>58.0</td>\n",
       "      <td>17.0</td>\n",
       "      <td>1:28.020</td>\n",
       "      <td>216.891</td>\n",
       "      <td>18.0</td>\n",
       "      <td>22.0</td>\n",
       "      <td>1980-01-19</td>\n",
       "      <td>British</td>\n",
       "      <td>Mercedes</td>\n",
       "      <td>British</td>\n",
       "      <td>18.0</td>\n",
       "      <td>1.0</td>\n",
       "      <td>1.0</td>\n",
       "      <td>10.0</td>\n",
       "      <td>1.0</td>\n",
       "      <td>1.0</td>\n",
       "      <td>Albert Park Grand Prix Circuit</td>\n",
       "      <td>Melbourne</td>\n",
       "      <td>Australia</td>\n",
       "      <td>Finished</td>\n",
       "      <td>Jenson Button</td>\n",
       "      <td>43.0</td>\n",
       "      <td>0</td>\n",
       "      <td>1</td>\n",
       "    </tr>\n",
       "    <tr>\n",
       "      <th>1</th>\n",
       "      <td>1</td>\n",
       "      <td>2009</td>\n",
       "      <td>1</td>\n",
       "      <td>Australian Grand Prix</td>\n",
       "      <td>2009-03-29</td>\n",
       "      <td>22</td>\n",
       "      <td>23</td>\n",
       "      <td>2</td>\n",
       "      <td>2.0</td>\n",
       "      <td>2</td>\n",
       "      <td>8.0</td>\n",
       "      <td>58.0</td>\n",
       "      <td>43.0</td>\n",
       "      <td>1:29.066</td>\n",
       "      <td>214.344</td>\n",
       "      <td>18.0</td>\n",
       "      <td>0.0</td>\n",
       "      <td>1972-05-23</td>\n",
       "      <td>Brazilian</td>\n",
       "      <td>Mercedes</td>\n",
       "      <td>British</td>\n",
       "      <td>18.0</td>\n",
       "      <td>1.0</td>\n",
       "      <td>1.0</td>\n",
       "      <td>8.0</td>\n",
       "      <td>2.0</td>\n",
       "      <td>0.0</td>\n",
       "      <td>Albert Park Grand Prix Circuit</td>\n",
       "      <td>Melbourne</td>\n",
       "      <td>Australia</td>\n",
       "      <td>Finished</td>\n",
       "      <td>Rubens Barrichello</td>\n",
       "      <td>51.0</td>\n",
       "      <td>0</td>\n",
       "      <td>1</td>\n",
       "    </tr>\n",
       "    <tr>\n",
       "      <th>2</th>\n",
       "      <td>1</td>\n",
       "      <td>2009</td>\n",
       "      <td>1</td>\n",
       "      <td>Australian Grand Prix</td>\n",
       "      <td>2009-03-29</td>\n",
       "      <td>15</td>\n",
       "      <td>7</td>\n",
       "      <td>20</td>\n",
       "      <td>3.0</td>\n",
       "      <td>3</td>\n",
       "      <td>6.0</td>\n",
       "      <td>58.0</td>\n",
       "      <td>50.0</td>\n",
       "      <td>1:28.916</td>\n",
       "      <td>214.706</td>\n",
       "      <td>11.0</td>\n",
       "      <td>0.0</td>\n",
       "      <td>1974-07-13</td>\n",
       "      <td>Italian</td>\n",
       "      <td>Toyota</td>\n",
       "      <td>Japanese</td>\n",
       "      <td>11.0</td>\n",
       "      <td>2.0</td>\n",
       "      <td>0.0</td>\n",
       "      <td>6.0</td>\n",
       "      <td>3.0</td>\n",
       "      <td>0.0</td>\n",
       "      <td>Albert Park Grand Prix Circuit</td>\n",
       "      <td>Melbourne</td>\n",
       "      <td>Australia</td>\n",
       "      <td>Finished</td>\n",
       "      <td>Jarno Trulli</td>\n",
       "      <td>49.0</td>\n",
       "      <td>0</td>\n",
       "      <td>1</td>\n",
       "    </tr>\n",
       "    <tr>\n",
       "      <th>3</th>\n",
       "      <td>1</td>\n",
       "      <td>2009</td>\n",
       "      <td>1</td>\n",
       "      <td>Australian Grand Prix</td>\n",
       "      <td>2009-03-29</td>\n",
       "      <td>10</td>\n",
       "      <td>7</td>\n",
       "      <td>19</td>\n",
       "      <td>4.0</td>\n",
       "      <td>4</td>\n",
       "      <td>5.0</td>\n",
       "      <td>58.0</td>\n",
       "      <td>53.0</td>\n",
       "      <td>1:28.416</td>\n",
       "      <td>215.920</td>\n",
       "      <td>11.0</td>\n",
       "      <td>0.0</td>\n",
       "      <td>1982-03-18</td>\n",
       "      <td>German</td>\n",
       "      <td>Toyota</td>\n",
       "      <td>Japanese</td>\n",
       "      <td>11.0</td>\n",
       "      <td>2.0</td>\n",
       "      <td>0.0</td>\n",
       "      <td>5.0</td>\n",
       "      <td>4.0</td>\n",
       "      <td>0.0</td>\n",
       "      <td>Albert Park Grand Prix Circuit</td>\n",
       "      <td>Melbourne</td>\n",
       "      <td>Australia</td>\n",
       "      <td>Finished</td>\n",
       "      <td>Timo Glock</td>\n",
       "      <td>41.0</td>\n",
       "      <td>0</td>\n",
       "      <td>1</td>\n",
       "    </tr>\n",
       "    <tr>\n",
       "      <th>4</th>\n",
       "      <td>1</td>\n",
       "      <td>2009</td>\n",
       "      <td>1</td>\n",
       "      <td>Australian Grand Prix</td>\n",
       "      <td>2009-03-29</td>\n",
       "      <td>4</td>\n",
       "      <td>4</td>\n",
       "      <td>10</td>\n",
       "      <td>5.0</td>\n",
       "      <td>5</td>\n",
       "      <td>4.0</td>\n",
       "      <td>58.0</td>\n",
       "      <td>53.0</td>\n",
       "      <td>1:28.712</td>\n",
       "      <td>215.199</td>\n",
       "      <td>4.0</td>\n",
       "      <td>14.0</td>\n",
       "      <td>1981-07-29</td>\n",
       "      <td>Spanish</td>\n",
       "      <td>Renault</td>\n",
       "      <td>French</td>\n",
       "      <td>4.0</td>\n",
       "      <td>3.0</td>\n",
       "      <td>0.0</td>\n",
       "      <td>4.0</td>\n",
       "      <td>5.0</td>\n",
       "      <td>0.0</td>\n",
       "      <td>Albert Park Grand Prix Circuit</td>\n",
       "      <td>Melbourne</td>\n",
       "      <td>Australia</td>\n",
       "      <td>Finished</td>\n",
       "      <td>Fernando Alonso</td>\n",
       "      <td>42.0</td>\n",
       "      <td>0</td>\n",
       "      <td>1</td>\n",
       "    </tr>\n",
       "  </tbody>\n",
       "</table>\n",
       "</div>"
      ],
      "text/plain": [
       "   raceId  season  raceNumber               prixName    raceDate  driverId  \\\n",
       "0       1    2009           1  Australian Grand Prix  2009-03-29        18   \n",
       "1       1    2009           1  Australian Grand Prix  2009-03-29        22   \n",
       "2       1    2009           1  Australian Grand Prix  2009-03-29        15   \n",
       "3       1    2009           1  Australian Grand Prix  2009-03-29        10   \n",
       "4       1    2009           1  Australian Grand Prix  2009-03-29         4   \n",
       "\n",
       "   constructorId  driverStartGridPos  driverFinalGridPos  driverFinalRank  \\\n",
       "0             23                   1                 1.0                1   \n",
       "1             23                   2                 2.0                2   \n",
       "2              7                  20                 3.0                3   \n",
       "3              7                  19                 4.0                4   \n",
       "4              4                  10                 5.0                5   \n",
       "\n",
       "   driverRacePoints  driverLapCount  driverFatestLapNumber  \\\n",
       "0              10.0            58.0                   17.0   \n",
       "1               8.0            58.0                   43.0   \n",
       "2               6.0            58.0                   50.0   \n",
       "3               5.0            58.0                   53.0   \n",
       "4               4.0            58.0                   53.0   \n",
       "\n",
       "  driverFastestLapTime  driverFastestLapSpeed  constructorRacePoints  \\\n",
       "0             1:28.020                216.891                   18.0   \n",
       "1             1:29.066                214.344                   18.0   \n",
       "2             1:28.916                214.706                   11.0   \n",
       "3             1:28.416                215.920                   11.0   \n",
       "4             1:28.712                215.199                    4.0   \n",
       "\n",
       "   driverNumber driverDateOfBirth driverNationality constructorName  \\\n",
       "0          22.0        1980-01-19           British        Mercedes   \n",
       "1           0.0        1972-05-23         Brazilian        Mercedes   \n",
       "2           0.0        1974-07-13           Italian          Toyota   \n",
       "3           0.0        1982-03-18            German          Toyota   \n",
       "4          14.0        1981-07-29           Spanish         Renault   \n",
       "\n",
       "  constructorNationality  constructorChampionshipStandingPoints  \\\n",
       "0                British                                   18.0   \n",
       "1                British                                   18.0   \n",
       "2               Japanese                                   11.0   \n",
       "3               Japanese                                   11.0   \n",
       "4                 French                                    4.0   \n",
       "\n",
       "   constructorChampionshipStandingPosition  \\\n",
       "0                                      1.0   \n",
       "1                                      1.0   \n",
       "2                                      2.0   \n",
       "3                                      2.0   \n",
       "4                                      3.0   \n",
       "\n",
       "   constructorChampionshipStandingWins  driverChampionshipStandingPoints  \\\n",
       "0                                  1.0                              10.0   \n",
       "1                                  1.0                               8.0   \n",
       "2                                  0.0                               6.0   \n",
       "3                                  0.0                               5.0   \n",
       "4                                  0.0                               4.0   \n",
       "\n",
       "   driverChampionshipStandingPosition  driverChampionshipStandingWins  \\\n",
       "0                                 1.0                             1.0   \n",
       "1                                 2.0                             0.0   \n",
       "2                                 3.0                             0.0   \n",
       "3                                 4.0                             0.0   \n",
       "4                                 5.0                             0.0   \n",
       "\n",
       "                      circuitName circuitLocation circuitCountry  \\\n",
       "0  Albert Park Grand Prix Circuit       Melbourne      Australia   \n",
       "1  Albert Park Grand Prix Circuit       Melbourne      Australia   \n",
       "2  Albert Park Grand Prix Circuit       Melbourne      Australia   \n",
       "3  Albert Park Grand Prix Circuit       Melbourne      Australia   \n",
       "4  Albert Park Grand Prix Circuit       Melbourne      Australia   \n",
       "\n",
       "  driverRaceResultStatus          driverName  driverAge  driverDnf  \\\n",
       "0               Finished       Jenson Button       43.0          0   \n",
       "1               Finished  Rubens Barrichello       51.0          0   \n",
       "2               Finished        Jarno Trulli       49.0          0   \n",
       "3               Finished          Timo Glock       41.0          0   \n",
       "4               Finished     Fernando Alonso       42.0          0   \n",
       "\n",
       "   constructorDnf  \n",
       "0               1  \n",
       "1               1  \n",
       "2               1  \n",
       "3               1  \n",
       "4               1  "
      ]
     },
     "execution_count": 3,
     "metadata": {},
     "output_type": "execute_result"
    }
   ],
   "source": [
    "data.head()"
   ]
  },
  {
   "cell_type": "code",
   "execution_count": 4,
   "id": "f2d3a986-e168-4878-b1dd-31a2449974f4",
   "metadata": {
    "tags": []
   },
   "outputs": [
    {
     "data": {
      "text/plain": [
       "(6995, 35)"
      ]
     },
     "execution_count": 4,
     "metadata": {},
     "output_type": "execute_result"
    }
   ],
   "source": [
    "data.shape"
   ]
  },
  {
   "cell_type": "code",
   "execution_count": 5,
   "id": "0a46f904-f94c-48ec-bd8d-89493ab6490c",
   "metadata": {
    "tags": []
   },
   "outputs": [],
   "source": [
    "#selecting features depending on correlation matrix from EDA performed in Phase 1\n",
    "features = ['season','driverId','constructorId', 'driverStartGridPos', \n",
    "            'driverFinalGridPos', 'driverChampionshipStandingPosition', \n",
    "            'constructorChampionshipStandingPosition']\n",
    "\n",
    "#Dropping unnecessary features and setting target variable - driver ranking in each race\n",
    "X = data[features]\n",
    "y = data['driverFinalRank']\n",
    "\n",
    "\n",
    "\n",
    "# split dataset into training(80%) and testing sets (20%) and stratifying over season\n",
    "X_train, X_test, y_train, y_test = train_test_split(X, y, test_size=0.2, \n",
    "                                                    random_state=42, \n",
    "                                                    stratify=data['season'])\n",
    "\n",
    "# Scale the features to ensure all features are at same scale\n",
    "scaler = StandardScaler()\n",
    "X_train_scaled = scaler.fit_transform(X_train)\n",
    "X_test_scaled = scaler.transform(X_test)\n"
   ]
  },
  {
   "cell_type": "markdown",
   "id": "cab66020-5de6-49df-8e06-300c95659912",
   "metadata": {},
   "source": [
    "## Classification Modeling"
   ]
  },
  {
   "cell_type": "code",
   "execution_count": 6,
   "id": "f6b5ddca-9ce5-41a3-86d0-e907408c0ced",
   "metadata": {
    "tags": []
   },
   "outputs": [
    {
     "name": "stderr",
     "output_type": "stream",
     "text": [
      "/Users/ayatarist/anaconda3/lib/python3.11/site-packages/sklearn/linear_model/_logistic.py:460: ConvergenceWarning: lbfgs failed to converge (status=1):\n",
      "STOP: TOTAL NO. of ITERATIONS REACHED LIMIT.\n",
      "\n",
      "Increase the number of iterations (max_iter) or scale the data as shown in:\n",
      "    https://scikit-learn.org/stable/modules/preprocessing.html\n",
      "Please also refer to the documentation for alternative solver options:\n",
      "    https://scikit-learn.org/stable/modules/linear_model.html#logistic-regression\n",
      "  n_iter_i = _check_optimize_result(\n",
      "/Users/ayatarist/anaconda3/lib/python3.11/site-packages/sklearn/linear_model/_logistic.py:460: ConvergenceWarning: lbfgs failed to converge (status=1):\n",
      "STOP: TOTAL NO. of ITERATIONS REACHED LIMIT.\n",
      "\n",
      "Increase the number of iterations (max_iter) or scale the data as shown in:\n",
      "    https://scikit-learn.org/stable/modules/preprocessing.html\n",
      "Please also refer to the documentation for alternative solver options:\n",
      "    https://scikit-learn.org/stable/modules/linear_model.html#logistic-regression\n",
      "  n_iter_i = _check_optimize_result(\n",
      "/Users/ayatarist/anaconda3/lib/python3.11/site-packages/sklearn/linear_model/_logistic.py:460: ConvergenceWarning: lbfgs failed to converge (status=1):\n",
      "STOP: TOTAL NO. of ITERATIONS REACHED LIMIT.\n",
      "\n",
      "Increase the number of iterations (max_iter) or scale the data as shown in:\n",
      "    https://scikit-learn.org/stable/modules/preprocessing.html\n",
      "Please also refer to the documentation for alternative solver options:\n",
      "    https://scikit-learn.org/stable/modules/linear_model.html#logistic-regression\n",
      "  n_iter_i = _check_optimize_result(\n",
      "/Users/ayatarist/anaconda3/lib/python3.11/site-packages/sklearn/linear_model/_logistic.py:460: ConvergenceWarning: lbfgs failed to converge (status=1):\n",
      "STOP: TOTAL NO. of ITERATIONS REACHED LIMIT.\n",
      "\n",
      "Increase the number of iterations (max_iter) or scale the data as shown in:\n",
      "    https://scikit-learn.org/stable/modules/preprocessing.html\n",
      "Please also refer to the documentation for alternative solver options:\n",
      "    https://scikit-learn.org/stable/modules/linear_model.html#logistic-regression\n",
      "  n_iter_i = _check_optimize_result(\n",
      "/Users/ayatarist/anaconda3/lib/python3.11/site-packages/sklearn/linear_model/_logistic.py:460: ConvergenceWarning: lbfgs failed to converge (status=1):\n",
      "STOP: TOTAL NO. of ITERATIONS REACHED LIMIT.\n",
      "\n",
      "Increase the number of iterations (max_iter) or scale the data as shown in:\n",
      "    https://scikit-learn.org/stable/modules/preprocessing.html\n",
      "Please also refer to the documentation for alternative solver options:\n",
      "    https://scikit-learn.org/stable/modules/linear_model.html#logistic-regression\n",
      "  n_iter_i = _check_optimize_result(\n",
      "/Users/ayatarist/anaconda3/lib/python3.11/site-packages/sklearn/linear_model/_logistic.py:460: ConvergenceWarning: lbfgs failed to converge (status=1):\n",
      "STOP: TOTAL NO. of ITERATIONS REACHED LIMIT.\n",
      "\n",
      "Increase the number of iterations (max_iter) or scale the data as shown in:\n",
      "    https://scikit-learn.org/stable/modules/preprocessing.html\n",
      "Please also refer to the documentation for alternative solver options:\n",
      "    https://scikit-learn.org/stable/modules/linear_model.html#logistic-regression\n",
      "  n_iter_i = _check_optimize_result(\n",
      "/Users/ayatarist/anaconda3/lib/python3.11/site-packages/sklearn/linear_model/_logistic.py:460: ConvergenceWarning: lbfgs failed to converge (status=1):\n",
      "STOP: TOTAL NO. of ITERATIONS REACHED LIMIT.\n",
      "\n",
      "Increase the number of iterations (max_iter) or scale the data as shown in:\n",
      "    https://scikit-learn.org/stable/modules/preprocessing.html\n",
      "Please also refer to the documentation for alternative solver options:\n",
      "    https://scikit-learn.org/stable/modules/linear_model.html#logistic-regression\n",
      "  n_iter_i = _check_optimize_result(\n",
      "/Users/ayatarist/anaconda3/lib/python3.11/site-packages/sklearn/linear_model/_logistic.py:460: ConvergenceWarning: lbfgs failed to converge (status=1):\n",
      "STOP: TOTAL NO. of ITERATIONS REACHED LIMIT.\n",
      "\n",
      "Increase the number of iterations (max_iter) or scale the data as shown in:\n",
      "    https://scikit-learn.org/stable/modules/preprocessing.html\n",
      "Please also refer to the documentation for alternative solver options:\n",
      "    https://scikit-learn.org/stable/modules/linear_model.html#logistic-regression\n",
      "  n_iter_i = _check_optimize_result(\n",
      "/Users/ayatarist/anaconda3/lib/python3.11/site-packages/sklearn/linear_model/_logistic.py:460: ConvergenceWarning: lbfgs failed to converge (status=1):\n",
      "STOP: TOTAL NO. of ITERATIONS REACHED LIMIT.\n",
      "\n",
      "Increase the number of iterations (max_iter) or scale the data as shown in:\n",
      "    https://scikit-learn.org/stable/modules/preprocessing.html\n",
      "Please also refer to the documentation for alternative solver options:\n",
      "    https://scikit-learn.org/stable/modules/linear_model.html#logistic-regression\n",
      "  n_iter_i = _check_optimize_result(\n",
      "/Users/ayatarist/anaconda3/lib/python3.11/site-packages/sklearn/linear_model/_logistic.py:460: ConvergenceWarning: lbfgs failed to converge (status=1):\n",
      "STOP: TOTAL NO. of ITERATIONS REACHED LIMIT.\n",
      "\n",
      "Increase the number of iterations (max_iter) or scale the data as shown in:\n",
      "    https://scikit-learn.org/stable/modules/preprocessing.html\n",
      "Please also refer to the documentation for alternative solver options:\n",
      "    https://scikit-learn.org/stable/modules/linear_model.html#logistic-regression\n",
      "  n_iter_i = _check_optimize_result(\n"
     ]
    },
    {
     "name": "stdout",
     "output_type": "stream",
     "text": [
      "Logistic Regression CV Accuracy: 0.139 ± 0.010\n",
      "Random Forest CV Accuracy: 0.801 ± 0.012\n",
      "Decision Tree CV Accuracy: 0.846 ± 0.006\n"
     ]
    }
   ],
   "source": [
    "# Set up cross-validation\n",
    "cv = StratifiedKFold(n_splits=10, random_state=1, shuffle=True)\n",
    "\n",
    "#We are using three different classifiers\n",
    "models = [LogisticRegression(), RandomForestClassifier(), DecisionTreeClassifier()]\n",
    "model_names = ['Logistic Regression', 'Random Forest', 'Decision Tree']\n",
    "scores = {}\n",
    "\n",
    "for model, name in zip(models, model_names):\n",
    "    cv_scores = cross_val_score(model, X_train, y_train, cv=cv, scoring='accuracy')\n",
    "    scores[name] = np.mean(cv_scores)\n",
    "    print(f\"{name} CV Accuracy: {np.mean(cv_scores):.3f} ± {np.std(cv_scores):.3f}\")"
   ]
  },
  {
   "cell_type": "markdown",
   "id": "028866ca-ef79-440e-b633-81338477f56d",
   "metadata": {},
   "source": [
    "##### Cross Validation Accuracy Results:\n",
    "- Logistic Regression CV Accuracy: 0.139 ± 0.010\n",
    "- Random Forest CV Accuracy: 0.801 ± 0.011\n",
    "- Decision Tree CV Accuracy: 0.845 ± 0.006"
   ]
  },
  {
   "cell_type": "code",
   "execution_count": 7,
   "id": "0e57b70f-e975-4068-8c24-52df55369e98",
   "metadata": {
    "tags": []
   },
   "outputs": [
    {
     "name": "stdout",
     "output_type": "stream",
     "text": [
      "Dummy Model Accuracy: 0.03859899928520372\n"
     ]
    }
   ],
   "source": [
    "from sklearn.dummy import DummyClassifier\n",
    "\n",
    "# Create a dummy classifier\n",
    "dummy_model = DummyClassifier(strategy=\"most_frequent\")\n",
    "\n",
    "# Train the dummy model (not really necessary for this simple model)\n",
    "dummy_model.fit(X_train, y_train)\n",
    "\n",
    "# Evaluate the dummy model\n",
    "dummy_accuracy = dummy_model.score(X_test, y_test)\n",
    "print(\"Dummy Model Accuracy:\", dummy_accuracy)\n"
   ]
  },
  {
   "cell_type": "code",
   "execution_count": 8,
   "id": "208b95e1-b51b-4ac7-b88f-3aa808dc5ec6",
   "metadata": {
    "tags": []
   },
   "outputs": [
    {
     "name": "stderr",
     "output_type": "stream",
     "text": [
      "/Users/ayatarist/anaconda3/lib/python3.11/site-packages/sklearn/linear_model/_logistic.py:460: ConvergenceWarning: lbfgs failed to converge (status=1):\n",
      "STOP: TOTAL NO. of ITERATIONS REACHED LIMIT.\n",
      "\n",
      "Increase the number of iterations (max_iter) or scale the data as shown in:\n",
      "    https://scikit-learn.org/stable/modules/preprocessing.html\n",
      "Please also refer to the documentation for alternative solver options:\n",
      "    https://scikit-learn.org/stable/modules/linear_model.html#logistic-regression\n",
      "  n_iter_i = _check_optimize_result(\n",
      "/Users/ayatarist/anaconda3/lib/python3.11/site-packages/sklearn/metrics/_classification.py:1469: UndefinedMetricWarning: Precision is ill-defined and being set to 0.0 in labels with no predicted samples. Use `zero_division` parameter to control this behavior.\n",
      "  _warn_prf(average, modifier, msg_start, len(result))\n"
     ]
    },
    {
     "data": {
      "image/png": "[encoded data removed]",
      "text/plain": [
       "<Figure size 1000x800 with 1 Axes>"
      ]
     },
     "metadata": {},
     "output_type": "display_data"
    },
    {
     "name": "stdout",
     "output_type": "stream",
     "text": [
      "                 Model  Accuracy  F1 Score    Recall  Precision       AUC  \\\n",
      "0  Logistic Regression  0.205147  0.167697  0.187397   0.166967  0.941667   \n",
      "1        Random Forest  0.809864  0.737144  0.738390   0.739161  0.681355   \n",
      "2        Decision Tree  0.853467  0.775302  0.775832   0.776744  0.479775   \n",
      "\n",
      "   Balanced Accuracy  \n",
      "0           0.187397  \n",
      "1           0.738390  \n",
      "2           0.775832  \n"
     ]
    }
   ],
   "source": [
    "# Fit models\n",
    "model_lr = LogisticRegression().fit(X_train_scaled, y_train)\n",
    "model_rf = RandomForestClassifier().fit(X_train_scaled, y_train)\n",
    "model_dt = DecisionTreeClassifier().fit(X_train_scaled, y_train)\n",
    "\n",
    "models = [model_lr, model_rf, model_dt]\n",
    "model_names = ['Logistic Regression', 'Random Forest', 'Decision Tree']\n",
    "\n",
    "# Initialize dictionary to store metrics\n",
    "metrics = {\n",
    "    'Model': [],\n",
    "    'Accuracy': [],\n",
    "    'F1 Score': [],\n",
    "    'Recall': [],\n",
    "    'Precision': [],\n",
    "    'AUC': [],\n",
    "    'Balanced Accuracy':[]\n",
    "}\n",
    "\n",
    "# Plot ROC Curves\n",
    "plt.figure(figsize=(10, 8))\n",
    "\n",
    "for model, name in zip(models, model_names):\n",
    "    y_pred = model.predict(X_test_scaled)\n",
    "    y_prob = model.predict_proba(X_test_scaled)[:, 1]  # Probability estimates for the positive class\n",
    "\n",
    "    # Calculate metrics\n",
    "    acc = accuracy_score(y_test, y_pred)\n",
    "    f1 = f1_score(y_test, y_pred, average='macro')\n",
    "    rec = recall_score(y_test, y_pred, average='macro')\n",
    "    prec = precision_score(y_test, y_pred, average='macro')\n",
    "    fpr, tpr, _ = roc_curve(y_test, y_prob, pos_label=1)\n",
    "    roc_auc = auc(fpr, tpr)\n",
    "    balanced_acc = balanced_accuracy_score(y_test, y_pred)\n",
    "\n",
    "    metrics['Model'].append(name)\n",
    "    metrics['Accuracy'].append(acc)\n",
    "    metrics['F1 Score'].append(f1)\n",
    "    metrics['Recall'].append(rec)\n",
    "    metrics['Precision'].append(prec)\n",
    "    metrics['AUC'].append(roc_auc)\n",
    "    metrics['Balanced Accuracy'].append(balanced_acc)\n",
    "\n",
    "    # ROC Curve\n",
    "    RocCurveDisplay(fpr=fpr, tpr=tpr, roc_auc=roc_auc, estimator_name=name).plot(ax=plt.gca())\n",
    "\n",
    "plt.title('ROC Curves Comparison')\n",
    "plt.show()\n",
    "\n",
    "# Create DataFrame from metrics dictionary\n",
    "df_metrics = pd.DataFrame(metrics)\n",
    "print(df_metrics)\n"
   ]
  },
  {
   "cell_type": "markdown",
   "id": "92038415-6818-40d5-98e1-c076288b8d2d",
   "metadata": {},
   "source": [
    "#### Performance Metrics Before HyperParameter Tuning "
   ]
  },
  {
   "cell_type": "code",
   "execution_count": 9,
   "id": "432af22f-58bd-4152-a657-b28a0258ce4d",
   "metadata": {
    "tags": []
   },
   "outputs": [
    {
     "data": {
      "text/html": [
       "<style type=\"text/css\">\n",
       "#T_b9c11 th {\n",
       "  font-size: 12pt;\n",
       "  text-align: center;\n",
       "  font-family: Arial;\n",
       "  background-color: #f4f4f9;\n",
       "}\n",
       "#T_b9c11 td {\n",
       "  font-size: 12pt;\n",
       "  text-align: center;\n",
       "  font-family: Arial;\n",
       "}\n",
       "#T_b9c11 tr:hover {\n",
       "  background-color: #ffff99;\n",
       "}\n",
       "#T_b9c11_row0_col0, #T_b9c11_row0_col1, #T_b9c11_row0_col2, #T_b9c11_row0_col3, #T_b9c11_row0_col4, #T_b9c11_row0_col5, #T_b9c11_row0_col6, #T_b9c11_row1_col0, #T_b9c11_row1_col1, #T_b9c11_row1_col2, #T_b9c11_row1_col3, #T_b9c11_row1_col4, #T_b9c11_row1_col5, #T_b9c11_row1_col6, #T_b9c11_row2_col0, #T_b9c11_row2_col1, #T_b9c11_row2_col2, #T_b9c11_row2_col3, #T_b9c11_row2_col4, #T_b9c11_row2_col5, #T_b9c11_row2_col6 {\n",
       "  background-color: #f9f9f9;\n",
       "  color: black;\n",
       "}\n",
       "</style>\n",
       "<table id=\"T_b9c11\">\n",
       "  <thead>\n",
       "    <tr>\n",
       "      <th id=\"T_b9c11_level0_col0\" class=\"col_heading level0 col0\" >Model</th>\n",
       "      <th id=\"T_b9c11_level0_col1\" class=\"col_heading level0 col1\" >Accuracy</th>\n",
       "      <th id=\"T_b9c11_level0_col2\" class=\"col_heading level0 col2\" >F1 Score</th>\n",
       "      <th id=\"T_b9c11_level0_col3\" class=\"col_heading level0 col3\" >Recall</th>\n",
       "      <th id=\"T_b9c11_level0_col4\" class=\"col_heading level0 col4\" >Precision</th>\n",
       "      <th id=\"T_b9c11_level0_col5\" class=\"col_heading level0 col5\" >AUC</th>\n",
       "      <th id=\"T_b9c11_level0_col6\" class=\"col_heading level0 col6\" >Balanced Accuracy</th>\n",
       "    </tr>\n",
       "  </thead>\n",
       "  <tbody>\n",
       "    <tr>\n",
       "      <td id=\"T_b9c11_row0_col0\" class=\"data row0 col0\" >Logistic Regression</td>\n",
       "      <td id=\"T_b9c11_row0_col1\" class=\"data row0 col1\" >0.205147</td>\n",
       "      <td id=\"T_b9c11_row0_col2\" class=\"data row0 col2\" >0.167697</td>\n",
       "      <td id=\"T_b9c11_row0_col3\" class=\"data row0 col3\" >0.187397</td>\n",
       "      <td id=\"T_b9c11_row0_col4\" class=\"data row0 col4\" >0.166967</td>\n",
       "      <td id=\"T_b9c11_row0_col5\" class=\"data row0 col5\" >0.941667</td>\n",
       "      <td id=\"T_b9c11_row0_col6\" class=\"data row0 col6\" >0.187397</td>\n",
       "    </tr>\n",
       "    <tr>\n",
       "      <td id=\"T_b9c11_row1_col0\" class=\"data row1 col0\" >Random Forest</td>\n",
       "      <td id=\"T_b9c11_row1_col1\" class=\"data row1 col1\" >0.809864</td>\n",
       "      <td id=\"T_b9c11_row1_col2\" class=\"data row1 col2\" >0.737144</td>\n",
       "      <td id=\"T_b9c11_row1_col3\" class=\"data row1 col3\" >0.738390</td>\n",
       "      <td id=\"T_b9c11_row1_col4\" class=\"data row1 col4\" >0.739161</td>\n",
       "      <td id=\"T_b9c11_row1_col5\" class=\"data row1 col5\" >0.681355</td>\n",
       "      <td id=\"T_b9c11_row1_col6\" class=\"data row1 col6\" >0.738390</td>\n",
       "    </tr>\n",
       "    <tr>\n",
       "      <td id=\"T_b9c11_row2_col0\" class=\"data row2 col0\" >Decision Tree</td>\n",
       "      <td id=\"T_b9c11_row2_col1\" class=\"data row2 col1\" >0.853467</td>\n",
       "      <td id=\"T_b9c11_row2_col2\" class=\"data row2 col2\" >0.775302</td>\n",
       "      <td id=\"T_b9c11_row2_col3\" class=\"data row2 col3\" >0.775832</td>\n",
       "      <td id=\"T_b9c11_row2_col4\" class=\"data row2 col4\" >0.776744</td>\n",
       "      <td id=\"T_b9c11_row2_col5\" class=\"data row2 col5\" >0.479775</td>\n",
       "      <td id=\"T_b9c11_row2_col6\" class=\"data row2 col6\" >0.775832</td>\n",
       "    </tr>\n",
       "  </tbody>\n",
       "</table>\n"
      ],
      "text/plain": [
       "<pandas.io.formats.style.Styler at 0x1365f1650>"
      ]
     },
     "execution_count": 9,
     "metadata": {},
     "output_type": "execute_result"
    }
   ],
   "source": [
    "df_metrics = pd.DataFrame(metrics)\n",
    "\n",
    "# Use the style feature to make the table more visually appealing\n",
    "styled_table = df_metrics.style.set_table_styles(\n",
    "    [{'selector': 'th', 'props': [('font-size', '12pt'), ('text-align', 'center'), ('font-family', 'Arial'), ('background-color', '#f4f4f9')]},\n",
    "     {'selector': 'td', 'props': [('font-size', '12pt'), ('text-align', 'center'), ('font-family', 'Arial')]},\n",
    "     {'selector': 'tr:hover',\n",
    "      'props': [('background-color', '#ffff99')]}]\n",
    ").set_properties(**{'background-color': '#f9f9f9', 'color': 'black'}).hide_index()\n",
    "\n",
    "# Display the styled table\n",
    "styled_table\n"
   ]
  },
  {
   "cell_type": "code",
   "execution_count": 10,
   "id": "8f4becb3-f454-4930-8fba-3d4e7e72fbf8",
   "metadata": {
    "tags": []
   },
   "outputs": [
    {
     "name": "stdout",
     "output_type": "stream",
     "text": [
      "LIFT for the top 10%: 1.00\n"
     ]
    },
    {
     "name": "stderr",
     "output_type": "stream",
     "text": [
      "/Users/ayatarist/anaconda3/lib/python3.11/site-packages/sklearn/base.py:457: UserWarning: X has feature names, but DecisionTreeClassifier was fitted without feature names\n",
      "  warnings.warn(\n"
     ]
    }
   ],
   "source": [
    "# Get probability predictions for the positive class\n",
    "y_probs = model.predict_proba(X_test)[:, 1]\n",
    "\n",
    "# Combine probabilities with actual labels for sorting\n",
    "data_with_probs = pd.DataFrame({'probabilities': y_probs, 'actual': y_test})\n",
    "\n",
    "# Sort by probabilities in descending order\n",
    "data_sorted = data_with_probs.sort_values(by='probabilities', ascending=False)\n",
    "\n",
    "# Identify the top 10%\n",
    "top_10_percent_index = int(len(data_sorted) * 0.1)\n",
    "top_10_percent = data_sorted.head(top_10_percent_index)\n",
    "\n",
    "# Calculate the number of positives in the top 10%\n",
    "top_10_positives = top_10_percent['actual'].sum()\n",
    "\n",
    "# Calculate the baseline positive rate\n",
    "baseline_rate = data_with_probs['actual'].mean()\n",
    "\n",
    "# Calculate LIFT\n",
    "lift = (top_10_positives / top_10_percent_index) / baseline_rate\n",
    "\n",
    "print(f\"LIFT for the top 10%: {lift:.2f}\")\n"
   ]
  },
  {
   "cell_type": "markdown",
   "id": "9180bece-6ba4-4070-9346-c94a24c5e4d4",
   "metadata": {},
   "source": [
    "#### Lift Output\n",
    "LIFT for the top 10%: 1.00"
   ]
  },
  {
   "cell_type": "markdown",
   "id": "38b58766-ed2c-4fcb-8791-b3e4ec193141",
   "metadata": {},
   "source": [
    "## Hyperparameter Tuning"
   ]
  },
  {
   "cell_type": "code",
   "execution_count": 11,
   "id": "5b86c695-6ccd-4e0f-b468-fa92f044586e",
   "metadata": {
    "tags": []
   },
   "outputs": [],
   "source": [
    "# Hyperparameter grids\n",
    "param_grid_lr = {\n",
    "    'C': [0.001, 0.01, 0.1, 1, 10],  # Regularization strength\n",
    "    'penalty': ['l1', 'l2'],  # Types of norm used in the penalization\n",
    "    'solver': ['liblinear']  # Algorithm to use in the optimization problem\n",
    "}\n",
    "\n",
    "param_grid_rf = {\n",
    "    'n_estimators': [10, 50, 100, 200],  # Number of trees in the forest\n",
    "    'max_depth': [None, 10, 20, 30],  # Maximum number of levels in each decision tree\n",
    "    'min_samples_split': [2, 5, 10]  # Minimum number of data points placed in a node before the node is split\n",
    "}\n",
    "\n",
    "param_grid_dt = {\n",
    "    'max_depth': [None, 10, 20, 30],  # Maximum depth of the tree\n",
    "    'min_samples_split': [2, 5, 10],  # Minimum number of samples required to split an internal node\n",
    "    'min_samples_leaf': [1, 2, 4]  # Minimum number of samples required to be at a leaf node\n",
    "}\n"
   ]
  },
  {
   "cell_type": "code",
   "execution_count": 12,
   "id": "307385c2-adf7-47af-843a-a77ddbbfac54",
   "metadata": {
    "tags": []
   },
   "outputs": [],
   "source": [
    "# Set up GridSearchCV for each model\n",
    "grid_search_lr = GridSearchCV(LogisticRegression(), param_grid_lr, cv=cv, scoring='accuracy', verbose=1)\n",
    "grid_search_rf = GridSearchCV(RandomForestClassifier(), param_grid_rf, cv=cv, scoring='accuracy', verbose=1)\n",
    "grid_search_dt = GridSearchCV(DecisionTreeClassifier(), param_grid_dt, cv=cv, scoring='accuracy', verbose=1)\n"
   ]
  },
  {
   "cell_type": "code",
   "execution_count": 13,
   "id": "1108d685-322a-447f-9a15-7747f1444811",
   "metadata": {
    "tags": []
   },
   "outputs": [
    {
     "name": "stdout",
     "output_type": "stream",
     "text": [
      "Fitting 10 folds for each of 10 candidates, totalling 100 fits\n"
     ]
    },
    {
     "name": "stderr",
     "output_type": "stream",
     "text": [
      "/Users/ayatarist/anaconda3/lib/python3.11/site-packages/sklearn/svm/_base.py:1242: ConvergenceWarning: Liblinear failed to converge, increase the number of iterations.\n",
      "  warnings.warn(\n"
     ]
    },
    {
     "name": "stdout",
     "output_type": "stream",
     "text": [
      "Fitting 10 folds for each of 48 candidates, totalling 480 fits\n",
      "Fitting 10 folds for each of 36 candidates, totalling 360 fits\n"
     ]
    },
    {
     "data": {
      "text/html": [
       "<style>#sk-container-id-1 {color: black;}#sk-container-id-1 pre{padding: 0;}#sk-container-id-1 div.sk-toggleable {background-color: white;}#sk-container-id-1 label.sk-toggleable__label {cursor: pointer;display: block;width: 100%;margin-bottom: 0;padding: 0.3em;box-sizing: border-box;text-align: center;}#sk-container-id-1 label.sk-toggleable__label-arrow:before {content: \"▸\";float: left;margin-right: 0.25em;color: #696969;}#sk-container-id-1 label.sk-toggleable__label-arrow:hover:before {color: black;}#sk-container-id-1 div.sk-estimator:hover label.sk-toggleable__label-arrow:before {color: black;}#sk-container-id-1 div.sk-toggleable__content {max-height: 0;max-width: 0;overflow: hidden;text-align: left;background-color: #f0f8ff;}#sk-container-id-1 div.sk-toggleable__content pre {margin: 0.2em;color: black;border-radius: 0.25em;background-color: #f0f8ff;}#sk-container-id-1 input.sk-toggleable__control:checked~div.sk-toggleable__content {max-height: 200px;max-width: 100%;overflow: auto;}#sk-container-id-1 input.sk-toggleable__control:checked~label.sk-toggleable__label-arrow:before {content: \"▾\";}#sk-container-id-1 div.sk-estimator input.sk-toggleable__control:checked~label.sk-toggleable__label {background-color: #d4ebff;}#sk-container-id-1 div.sk-label input.sk-toggleable__control:checked~label.sk-toggleable__label {background-color: #d4ebff;}#sk-container-id-1 input.sk-hidden--visually {border: 0;clip: rect(1px 1px 1px 1px);clip: rect(1px, 1px, 1px, 1px);height: 1px;margin: -1px;overflow: hidden;padding: 0;position: absolute;width: 1px;}#sk-container-id-1 div.sk-estimator {font-family: monospace;background-color: #f0f8ff;border: 1px dotted black;border-radius: 0.25em;box-sizing: border-box;margin-bottom: 0.5em;}#sk-container-id-1 div.sk-estimator:hover {background-color: #d4ebff;}#sk-container-id-1 div.sk-parallel-item::after {content: \"\";width: 100%;border-bottom: 1px solid gray;flex-grow: 1;}#sk-container-id-1 div.sk-label:hover label.sk-toggleable__label {background-color: #d4ebff;}#sk-container-id-1 div.sk-serial::before {content: \"\";position: absolute;border-left: 1px solid gray;box-sizing: border-box;top: 0;bottom: 0;left: 50%;z-index: 0;}#sk-container-id-1 div.sk-serial {display: flex;flex-direction: column;align-items: center;background-color: white;padding-right: 0.2em;padding-left: 0.2em;position: relative;}#sk-container-id-1 div.sk-item {position: relative;z-index: 1;}#sk-container-id-1 div.sk-parallel {display: flex;align-items: stretch;justify-content: center;background-color: white;position: relative;}#sk-container-id-1 div.sk-item::before, #sk-container-id-1 div.sk-parallel-item::before {content: \"\";position: absolute;border-left: 1px solid gray;box-sizing: border-box;top: 0;bottom: 0;left: 50%;z-index: -1;}#sk-container-id-1 div.sk-parallel-item {display: flex;flex-direction: column;z-index: 1;position: relative;background-color: white;}#sk-container-id-1 div.sk-parallel-item:first-child::after {align-self: flex-end;width: 50%;}#sk-container-id-1 div.sk-parallel-item:last-child::after {align-self: flex-start;width: 50%;}#sk-container-id-1 div.sk-parallel-item:only-child::after {width: 0;}#sk-container-id-1 div.sk-dashed-wrapped {border: 1px dashed gray;margin: 0 0.4em 0.5em 0.4em;box-sizing: border-box;padding-bottom: 0.4em;background-color: white;}#sk-container-id-1 div.sk-label label {font-family: monospace;font-weight: bold;display: inline-block;line-height: 1.2em;}#sk-container-id-1 div.sk-label-container {text-align: center;}#sk-container-id-1 div.sk-container {/* jupyter's `normalize.less` sets `[hidden] { display: none; }` but bootstrap.min.css set `[hidden] { display: none !important; }` so we also need the `!important` here to be able to override the default hidden behavior on the sphinx rendered scikit-learn.org. See: https://github.com/scikit-learn/scikit-learn/issues/21755 */display: inline-block !important;position: relative;}#sk-container-id-1 div.sk-text-repr-fallback {display: none;}</style><div id=\"sk-container-id-1\" class=\"sk-top-container\"><div class=\"sk-text-repr-fallback\"><pre>GridSearchCV(cv=StratifiedKFold(n_splits=10, random_state=1, shuffle=True),\n",
       "             estimator=DecisionTreeClassifier(),\n",
       "             param_grid={&#x27;max_depth&#x27;: [None, 10, 20, 30],\n",
       "                         &#x27;min_samples_leaf&#x27;: [1, 2, 4],\n",
       "                         &#x27;min_samples_split&#x27;: [2, 5, 10]},\n",
       "             scoring=&#x27;accuracy&#x27;, verbose=1)</pre><b>In a Jupyter environment, please rerun this cell to show the HTML representation or trust the notebook. <br />On GitHub, the HTML representation is unable to render, please try loading this page with nbviewer.org.</b></div><div class=\"sk-container\" hidden><div class=\"sk-item sk-dashed-wrapped\"><div class=\"sk-label-container\"><div class=\"sk-label sk-toggleable\"><input class=\"sk-toggleable__control sk-hidden--visually\" id=\"sk-estimator-id-1\" type=\"checkbox\" ><label for=\"sk-estimator-id-1\" class=\"sk-toggleable__label sk-toggleable__label-arrow\">GridSearchCV</label><div class=\"sk-toggleable__content\"><pre>GridSearchCV(cv=StratifiedKFold(n_splits=10, random_state=1, shuffle=True),\n",
       "             estimator=DecisionTreeClassifier(),\n",
       "             param_grid={&#x27;max_depth&#x27;: [None, 10, 20, 30],\n",
       "                         &#x27;min_samples_leaf&#x27;: [1, 2, 4],\n",
       "                         &#x27;min_samples_split&#x27;: [2, 5, 10]},\n",
       "             scoring=&#x27;accuracy&#x27;, verbose=1)</pre></div></div></div><div class=\"sk-parallel\"><div class=\"sk-parallel-item\"><div class=\"sk-item\"><div class=\"sk-label-container\"><div class=\"sk-label sk-toggleable\"><input class=\"sk-toggleable__control sk-hidden--visually\" id=\"sk-estimator-id-2\" type=\"checkbox\" ><label for=\"sk-estimator-id-2\" class=\"sk-toggleable__label sk-toggleable__label-arrow\">estimator: DecisionTreeClassifier</label><div class=\"sk-toggleable__content\"><pre>DecisionTreeClassifier()</pre></div></div></div><div class=\"sk-serial\"><div class=\"sk-item\"><div class=\"sk-estimator sk-toggleable\"><input class=\"sk-toggleable__control sk-hidden--visually\" id=\"sk-estimator-id-3\" type=\"checkbox\" ><label for=\"sk-estimator-id-3\" class=\"sk-toggleable__label sk-toggleable__label-arrow\">DecisionTreeClassifier</label><div class=\"sk-toggleable__content\"><pre>DecisionTreeClassifier()</pre></div></div></div></div></div></div></div></div></div></div>"
      ],
      "text/plain": [
       "GridSearchCV(cv=StratifiedKFold(n_splits=10, random_state=1, shuffle=True),\n",
       "             estimator=DecisionTreeClassifier(),\n",
       "             param_grid={'max_depth': [None, 10, 20, 30],\n",
       "                         'min_samples_leaf': [1, 2, 4],\n",
       "                         'min_samples_split': [2, 5, 10]},\n",
       "             scoring='accuracy', verbose=1)"
      ]
     },
     "execution_count": 13,
     "metadata": {},
     "output_type": "execute_result"
    }
   ],
   "source": [
    "# Fit the grid search to the data\n",
    "grid_search_lr.fit(X_train_scaled, y_train)\n",
    "grid_search_rf.fit(X_train_scaled, y_train)\n",
    "grid_search_dt.fit(X_train_scaled, y_train)\n"
   ]
  },
  {
   "cell_type": "code",
   "execution_count": 14,
   "id": "20133bbf-1442-4e63-a599-fdc94674875f",
   "metadata": {
    "tags": []
   },
   "outputs": [
    {
     "name": "stdout",
     "output_type": "stream",
     "text": [
      "Best parameters for Logistic Regression: {'C': 10, 'penalty': 'l1', 'solver': 'liblinear'}\n",
      "Best score for Logistic Regression: 0.20425057500638893\n",
      "Best parameters for Random Forest: {'max_depth': 20, 'min_samples_split': 10, 'n_estimators': 200}\n",
      "Best score for Random Forest: 0.8134343853820598\n",
      "Best parameters for Decision Tree: {'max_depth': 30, 'min_samples_leaf': 1, 'min_samples_split': 2}\n",
      "Best score for Decision Tree: 0.8479232685918733\n"
     ]
    }
   ],
   "source": [
    "print('Best parameters for Logistic Regression:', grid_search_lr.best_params_)\n",
    "print('Best score for Logistic Regression:', grid_search_lr.best_score_)\n",
    "\n",
    "print('Best parameters for Random Forest:', grid_search_rf.best_params_)\n",
    "print('Best score for Random Forest:', grid_search_rf.best_score_)\n",
    "\n",
    "print('Best parameters for Decision Tree:', grid_search_dt.best_params_)\n",
    "print('Best score for Decision Tree:', grid_search_dt.best_score_)\n"
   ]
  },
  {
   "cell_type": "code",
   "execution_count": 15,
   "id": "420245b8-77c0-4ae5-8a4a-1d6de5b80715",
   "metadata": {
    "tags": []
   },
   "outputs": [],
   "source": [
    "best_model_lr = grid_search_lr.best_estimator_\n",
    "best_model_rf = grid_search_rf.best_estimator_\n",
    "best_model_dt = grid_search_dt.best_estimator_"
   ]
  },
  {
   "cell_type": "code",
   "execution_count": 16,
   "id": "5a805cb0-42f2-4dc5-95bd-908d8f8da876",
   "metadata": {
    "tags": []
   },
   "outputs": [
    {
     "name": "stdout",
     "output_type": "stream",
     "text": [
      "                     precision    recall  f1-score  accuracy\n",
      "Logistic Regression   0.195955  0.211580  0.189905  0.211580\n",
      "Random Forest         0.837576  0.827734  0.830022  0.827734\n",
      "Decision Tree         0.851384  0.855611  0.853084  0.855611\n"
     ]
    },
    {
     "name": "stderr",
     "output_type": "stream",
     "text": [
      "/Users/ayatarist/anaconda3/lib/python3.11/site-packages/sklearn/metrics/_classification.py:1469: UndefinedMetricWarning: Precision and F-score are ill-defined and being set to 0.0 in labels with no predicted samples. Use `zero_division` parameter to control this behavior.\n",
      "  _warn_prf(average, modifier, msg_start, len(result))\n",
      "/Users/ayatarist/anaconda3/lib/python3.11/site-packages/sklearn/metrics/_classification.py:1469: UndefinedMetricWarning: Precision and F-score are ill-defined and being set to 0.0 in labels with no predicted samples. Use `zero_division` parameter to control this behavior.\n",
      "  _warn_prf(average, modifier, msg_start, len(result))\n",
      "/Users/ayatarist/anaconda3/lib/python3.11/site-packages/sklearn/metrics/_classification.py:1469: UndefinedMetricWarning: Precision and F-score are ill-defined and being set to 0.0 in labels with no predicted samples. Use `zero_division` parameter to control this behavior.\n",
      "  _warn_prf(average, modifier, msg_start, len(result))\n"
     ]
    }
   ],
   "source": [
    "from sklearn.metrics import classification_report\n",
    "import pandas as pd\n",
    "\n",
    "# Predictions on the test set\n",
    "y_pred_lr = best_model_lr.predict(X_test_scaled)\n",
    "y_pred_rf = best_model_rf.predict(X_test_scaled)\n",
    "y_pred_dt = best_model_dt.predict(X_test_scaled)\n",
    "\n",
    "# Generate classification reports as dictionaries\n",
    "report_lr = classification_report(y_test, y_pred_lr, output_dict=True)\n",
    "report_rf = classification_report(y_test, y_pred_rf, output_dict=True)\n",
    "report_dt = classification_report(y_test, y_pred_dt, output_dict=True)\n",
    "\n",
    "# Create a DataFrame with metrics for each model\n",
    "df_metrics = pd.DataFrame({\n",
    "    'Logistic Regression': {\n",
    "        'precision': report_lr['weighted avg']['precision'],\n",
    "        'recall': report_lr['weighted avg']['recall'],\n",
    "        'f1-score': report_lr['weighted avg']['f1-score'],\n",
    "        'accuracy': report_lr['accuracy']\n",
    "    },\n",
    "    'Random Forest': {\n",
    "        'precision': report_rf['weighted avg']['precision'],\n",
    "        'recall': report_rf['weighted avg']['recall'],\n",
    "        'f1-score': report_rf['weighted avg']['f1-score'],\n",
    "        'accuracy': report_rf['accuracy']\n",
    "    },\n",
    "    'Decision Tree': {\n",
    "        'precision': report_dt['weighted avg']['precision'],\n",
    "        'recall': report_dt['weighted avg']['recall'],\n",
    "        'f1-score': report_dt['weighted avg']['f1-score'],\n",
    "        'accuracy': report_dt['accuracy']\n",
    "    }\n",
    "})\n",
    "\n",
    "# Transpose the DataFrame to have models as rows\n",
    "df_metrics = df_metrics.transpose()\n",
    "\n",
    "# Print the DataFrame\n",
    "print(df_metrics)"
   ]
  },
  {
   "cell_type": "code",
   "execution_count": 17,
   "id": "5dd16256-da25-48bc-9783-d6ffb546b898",
   "metadata": {
    "tags": []
   },
   "outputs": [
    {
     "name": "stderr",
     "output_type": "stream",
     "text": [
      "/Users/ayatarist/anaconda3/lib/python3.11/site-packages/sklearn/metrics/_classification.py:1469: UndefinedMetricWarning: Precision is ill-defined and being set to 0.0 in labels with no predicted samples. Use `zero_division` parameter to control this behavior.\n",
      "  _warn_prf(average, modifier, msg_start, len(result))\n"
     ]
    },
    {
     "ename": "NameError",
     "evalue": "name 'metrics_dict' is not defined",
     "output_type": "error",
     "traceback": [
      "\u001b[0;31m---------------------------------------------------------------------------\u001b[0m",
      "\u001b[0;31mNameError\u001b[0m                                 Traceback (most recent call last)",
      "Cell \u001b[0;32mIn[17], line 37\u001b[0m\n\u001b[1;32m      7\u001b[0m metrics2_dict \u001b[38;5;241m=\u001b[39m {\n\u001b[1;32m      8\u001b[0m     \u001b[38;5;124m'\u001b[39m\u001b[38;5;124mModel\u001b[39m\u001b[38;5;124m'\u001b[39m: [\u001b[38;5;124m'\u001b[39m\u001b[38;5;124mLogistic Regression\u001b[39m\u001b[38;5;124m'\u001b[39m, \u001b[38;5;124m'\u001b[39m\u001b[38;5;124mRandom Forest\u001b[39m\u001b[38;5;124m'\u001b[39m, \u001b[38;5;124m'\u001b[39m\u001b[38;5;124mDecision Tree\u001b[39m\u001b[38;5;124m'\u001b[39m],\n\u001b[1;32m      9\u001b[0m     \u001b[38;5;124m'\u001b[39m\u001b[38;5;124mAccuracy\u001b[39m\u001b[38;5;124m'\u001b[39m: [\n\u001b[0;32m   (...)\u001b[0m\n\u001b[1;32m     33\u001b[0m     ]\n\u001b[1;32m     34\u001b[0m }\n\u001b[1;32m     36\u001b[0m \u001b[38;5;66;03m# Convert the dictionary into a DataFrame\u001b[39;00m\n\u001b[0;32m---> 37\u001b[0m metrics_df2 \u001b[38;5;241m=\u001b[39m pd\u001b[38;5;241m.\u001b[39mDataFrame(metrics_dict)\n\u001b[1;32m     39\u001b[0m \u001b[38;5;66;03m# Set the 'Model' column as the index\u001b[39;00m\n\u001b[1;32m     40\u001b[0m metrics_df2\u001b[38;5;241m.\u001b[39mset_index(\u001b[38;5;124m'\u001b[39m\u001b[38;5;124mModel\u001b[39m\u001b[38;5;124m'\u001b[39m, inplace\u001b[38;5;241m=\u001b[39m\u001b[38;5;28;01mTrue\u001b[39;00m)\n",
      "\u001b[0;31mNameError\u001b[0m: name 'metrics_dict' is not defined"
     ]
    }
   ],
   "source": [
    "from sklearn.metrics import accuracy_score, f1_score, recall_score, precision_score, roc_auc_score, balanced_accuracy_score\n",
    "import pandas as pd\n",
    "\n",
    "# Assuming you have already trained your models and have the predictions: y_pred_lr, y_pred_rf, y_pred_dt\n",
    "\n",
    "# Create a dictionary to hold your metrics\n",
    "metrics2_dict = {\n",
    "    'Model': ['Logistic Regression', 'Random Forest', 'Decision Tree'],\n",
    "    'Accuracy': [\n",
    "        accuracy_score(y_test, y_pred_lr),\n",
    "        accuracy_score(y_test, y_pred_rf),\n",
    "        accuracy_score(y_test, y_pred_dt)\n",
    "    ],\n",
    "    'F1 Score': [\n",
    "        f1_score(y_test, y_pred_lr, average='weighted'),\n",
    "        f1_score(y_test, y_pred_rf, average='weighted'),\n",
    "        f1_score(y_test, y_pred_dt, average='weighted')\n",
    "    ],\n",
    "    'Recall': [\n",
    "        recall_score(y_test, y_pred_lr, average='weighted'),\n",
    "        recall_score(y_test, y_pred_rf, average='weighted'),\n",
    "        recall_score(y_test, y_pred_dt, average='weighted')\n",
    "    ],\n",
    "    'Precision': [\n",
    "        precision_score(y_test, y_pred_lr, average='weighted'),\n",
    "        precision_score(y_test, y_pred_rf, average='weighted'),\n",
    "        precision_score(y_test, y_pred_dt, average='weighted')\n",
    "    ],\n",
    "    'Balanced Accuracy': [\n",
    "        balanced_accuracy_score(y_test, y_pred_lr),\n",
    "        balanced_accuracy_score(y_test, y_pred_rf),\n",
    "        balanced_accuracy_score(y_test, y_pred_dt)\n",
    "    ]\n",
    "}\n",
    "\n",
    "# Convert the dictionary into a DataFrame\n",
    "metrics_df2 = pd.DataFrame(metrics_dict)\n",
    "\n",
    "# Set the 'Model' column as the index\n",
    "metrics_df2.set_index('Model', inplace=True)\n",
    "\n",
    "# Display the DataFrame\n",
    "print(metrics_df2)\n"
   ]
  },
  {
   "cell_type": "markdown",
   "id": "7a64b927-4c23-4a20-b8c1-19502dcd80d4",
   "metadata": {},
   "source": [
    "#### Performance Metrics After HyperParameter Tuning "
   ]
  },
  {
   "cell_type": "code",
   "execution_count": null,
   "id": "25ee195a-1f2b-4df4-8b72-448061f54854",
   "metadata": {
    "tags": []
   },
   "outputs": [],
   "source": [
    "df_metric2s = pd.DataFrame(metrics2_dict)\n",
    "\n",
    "# Use the style feature to make the table more visually appealing\n",
    "styled_table = df_metric2s.style.set_table_styles(\n",
    "    [{'selector': 'th', 'props': [('font-size', '12pt'), ('text-align', 'center'), ('font-family', 'Arial'), ('background-color', '#f4f4f9')]},\n",
    "     {'selector': 'td', 'props': [('font-size', '12pt'), ('text-align', 'center'), ('font-family', 'Arial')]},\n",
    "     {'selector': 'tr:hover',\n",
    "      'props': [('background-color', '#ffff99')]}]\n",
    ").set_properties(**{'background-color': '#f9f9f9', 'color': 'black'}).hide_index()\n",
    "\n",
    "# Display the styled table\n",
    "styled_table"
   ]
  }
 ],
 "metadata": {
  "kernelspec": {
   "display_name": "Python 3 (ipykernel)",
   "language": "python",
   "name": "python3"
  },
  "language_info": {
   "codemirror_mode": {
    "name": "ipython",
    "version": 3
   },
   "file_extension": ".py",
   "mimetype": "text/x-python",
   "name": "python",
   "nbconvert_exporter": "python",
   "pygments_lexer": "ipython3",
   "version": "3.11.4"
  }
 },
 "nbformat": 4,
 "nbformat_minor": 5
}
